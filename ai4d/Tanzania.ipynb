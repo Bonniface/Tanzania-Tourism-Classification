{
 "cells": [
  {
   "cell_type": "code",
   "execution_count": null,
   "metadata": {},
   "outputs": [],
   "source": [
    "import warnings\n",
    "\n",
    "import numpy as np\n",
    "import pandas as pd\n",
    "\n",
    "import matplotlib.pyplot as plt\n",
    "import seaborn as sns\n",
    "\n",
    "import plotly.offline as py\n",
    "import plotly.figure_factory as ff\n",
    "import plotly.graph_objs as go\n",
    "import plotly.io as pio\n",
    "import plotly.express as px\n",
    "\n",
    "plt.style.use('seaborn')\n",
    "plt.rcParams['figure.figsize'] = [8, 4.5]\n",
    "plt.rcParams['figure.dpi'] = 300\n",
    "warnings.simplefilter(action = 'ignore', category = FutureWarning)\n",
    "\n",
    "#import graphing\n",
    "\n",
    "# import mglearn"
   ]
  },
  {
   "cell_type": "code",
   "execution_count": null,
   "metadata": {},
   "outputs": [
    {
     "data": {
      "text/plain": [
       "(18506, 21)"
      ]
     },
     "execution_count": 169,
     "metadata": {},
     "output_type": "execute_result"
    }
   ],
   "source": [
    "Test = pd.read_csv('Test.csv')\n",
    "Train =pd.read_csv('Train.csv')\n",
    "Train.shape"
   ]
  },
  {
   "cell_type": "code",
   "execution_count": null,
   "metadata": {},
   "outputs": [
    {
     "data": {
      "text/plain": [
       "Tour_ID                     0\n",
       "country                     0\n",
       "age_group                   0\n",
       "travel_with              1075\n",
       "total_female                2\n",
       "total_male                  6\n",
       "purpose                     0\n",
       "main_activity               0\n",
       "info_source                 0\n",
       "tour_arrangement            0\n",
       "package_transport_int       0\n",
       "package_accomodation        0\n",
       "package_food                0\n",
       "package_transport_tz        0\n",
       "package_sightseeing         0\n",
       "package_guided_tour         0\n",
       "package_insurance           0\n",
       "night_mainland              0\n",
       "night_zanzibar              0\n",
       "first_trip_tz               0\n",
       "cost_category               0\n",
       "dtype: int64"
      ]
     },
     "execution_count": 170,
     "metadata": {},
     "output_type": "execute_result"
    }
   ],
   "source": [
    "Train.isnull().sum()"
   ]
  },
  {
   "cell_type": "code",
   "execution_count": null,
   "metadata": {},
   "outputs": [
    {
     "name": "stdout",
     "output_type": "stream",
     "text": [
      "List of all Columns: \n",
      "Index(['Tour_ID', 'country', 'age_group', 'travel_with', 'total_female',\n",
      "       'total_male', 'purpose', 'main_activity', 'info_source',\n",
      "       'tour_arrangement', 'package_transport_int', 'package_accomodation',\n",
      "       'package_food', 'package_transport_tz', 'package_sightseeing',\n",
      "       'package_guided_tour', 'package_insurance', 'night_mainland',\n",
      "       'night_zanzibar', 'first_trip_tz', 'cost_category'],\n",
      "      dtype='object')\n",
      "\n",
      "\n",
      "Integer Type: \n",
      "Index(['night_mainland', 'night_zanzibar'], dtype='object')\n",
      "\n",
      "\n",
      "Float Type: \n",
      "Index(['total_female', 'total_male'], dtype='object')\n",
      "\n",
      "\n",
      "Object Type: \n",
      "Index(['Tour_ID', 'country', 'age_group', 'travel_with', 'purpose',\n",
      "       'main_activity', 'info_source', 'tour_arrangement',\n",
      "       'package_transport_int', 'package_accomodation', 'package_food',\n",
      "       'package_transport_tz', 'package_sightseeing', 'package_guided_tour',\n",
      "       'package_insurance', 'first_trip_tz', 'cost_category'],\n",
      "      dtype='object')\n",
      "\n",
      "\n",
      "Count:\n",
      "object     17\n",
      "float64     2\n",
      "int64       2\n",
      "dtype: int64\n"
     ]
    }
   ],
   "source": [
    "#List the columns for different datatypes:\n",
    "print('List of all Columns: ')\n",
    "print(Train.columns)\n",
    "print('\\n')\n",
    "print('Integer Type: ')\n",
    "Col_int = Train.select_dtypes(np.int64).columns\n",
    "print(Col_int)\n",
    "print('\\n')\n",
    "print('Float Type: ')\n",
    "Col_float = Train.select_dtypes(np.float64).columns\n",
    "print(Col_float)\n",
    "print('\\n')\n",
    "print('Object Type: ')\n",
    "Col_cat = Train.select_dtypes(object).columns\n",
    "print(Col_cat)\n",
    "print('\\n')\n",
    "print('Count:')\n",
    "print(Train.dtypes.value_counts())"
   ]
  },
  {
   "cell_type": "code",
   "execution_count": null,
   "metadata": {},
   "outputs": [],
   "source": [
    "\n",
    "def Clean(cols):\n",
    "    travel_with =cols[0]\n",
    "    total_female =cols[1]\n",
    "    total_male =cols[2]\n",
    "    if pd.isnull(travel_with):\n",
    "        \n",
    "        if total_female+total_male == 1:\n",
    "            return \"Alone\"\n",
    "        elif total_female+total_male <= 5:\n",
    "            return \"With Spouse and Children\"\n",
    "        elif total_female+total_male == 2:\n",
    "            return \"With Spouse \"\n",
    "        else:\n",
    "            return \"With Other Friend/Relative\"\n",
    "    else:\n",
    "        return travel_with\n",
    "\n",
    "\n",
    "Train['travel_with']=Train[['travel_with','total_female','total_male']].apply(Clean,axis=1)\n",
    "Test['travel_with']=Test[['travel_with','total_female','total_male']].apply(Clean,axis=1)\n",
    "\n",
    "\n",
    "    "
   ]
  },
  {
   "cell_type": "code",
   "execution_count": null,
   "metadata": {},
   "outputs": [],
   "source": [
    "Train['total'] = Train['total_female'] + Train['total_male']\n",
    "Test['total'] = Test['total_female'] + Test['total_male']\n",
    " "
   ]
  },
  {
   "cell_type": "code",
   "execution_count": null,
   "metadata": {},
   "outputs": [],
   "source": []
  },
  {
   "cell_type": "code",
   "execution_count": null,
   "metadata": {},
   "outputs": [
    {
     "data": {
      "text/plain": [
       "(94, 22)"
      ]
     },
     "execution_count": 174,
     "metadata": {},
     "output_type": "execute_result"
    }
   ],
   "source": [
    "grouped = Train.groupby(\"total\")\n",
    "total =grouped.get_group(0)\n",
    "total.shape"
   ]
  },
  {
   "cell_type": "code",
   "execution_count": null,
   "metadata": {},
   "outputs": [
    {
     "data": {
      "text/plain": [
       "(37, 21)"
      ]
     },
     "execution_count": 175,
     "metadata": {},
     "output_type": "execute_result"
    }
   ],
   "source": [
    "g = Test.groupby(\"total\")\n",
    "t =g.get_group(0)\n",
    "t.shape"
   ]
  },
  {
   "cell_type": "code",
   "execution_count": null,
   "metadata": {},
   "outputs": [
    {
     "data": {
      "text/plain": [
       "(6132, 21)"
      ]
     },
     "execution_count": 176,
     "metadata": {},
     "output_type": "execute_result"
    }
   ],
   "source": [
    "Train.drop(Train[Train['total'] ==0].index,inplace = True)\n",
    "Test.drop(Test[Test['total'] ==0].index,inplace = True)\n",
    "\n",
    "Train['total'].fillna(Train['total'].mode()[0],inplace=True)\n",
    "Test['total'].fillna(Test['total'].mode()[0],inplace=True)\n",
    "\n",
    "Test.shape"
   ]
  },
  {
   "cell_type": "code",
   "execution_count": null,
   "metadata": {},
   "outputs": [],
   "source": [
    "Train = Train.drop(['Tour_ID','total_female','total_male'], axis=1)\n",
    "Test = Test.drop(['Tour_ID','total_female','total_male'], axis=1)\n"
   ]
  },
  {
   "cell_type": "code",
   "execution_count": null,
   "metadata": {},
   "outputs": [
    {
     "data": {
      "text/html": [
       "<div>\n",
       "<style scoped>\n",
       "    .dataframe tbody tr th:only-of-type {\n",
       "        vertical-align: middle;\n",
       "    }\n",
       "\n",
       "    .dataframe tbody tr th {\n",
       "        vertical-align: top;\n",
       "    }\n",
       "\n",
       "    .dataframe thead th {\n",
       "        text-align: right;\n",
       "    }\n",
       "</style>\n",
       "<table border=\"1\" class=\"dataframe\">\n",
       "  <thead>\n",
       "    <tr style=\"text-align: right;\">\n",
       "      <th></th>\n",
       "      <th>count</th>\n",
       "      <th>unique</th>\n",
       "      <th>top</th>\n",
       "      <th>freq</th>\n",
       "    </tr>\n",
       "  </thead>\n",
       "  <tbody>\n",
       "    <tr>\n",
       "      <th>country</th>\n",
       "      <td>18412</td>\n",
       "      <td>131</td>\n",
       "      <td>UNITED STATES OF AMERICA</td>\n",
       "      <td>2825</td>\n",
       "    </tr>\n",
       "    <tr>\n",
       "      <th>age_group</th>\n",
       "      <td>18412</td>\n",
       "      <td>5</td>\n",
       "      <td>25-44</td>\n",
       "      <td>9002</td>\n",
       "    </tr>\n",
       "    <tr>\n",
       "      <th>travel_with</th>\n",
       "      <td>17339</td>\n",
       "      <td>5</td>\n",
       "      <td>Alone</td>\n",
       "      <td>7550</td>\n",
       "    </tr>\n",
       "    <tr>\n",
       "      <th>purpose</th>\n",
       "      <td>18412</td>\n",
       "      <td>8</td>\n",
       "      <td>Leisure and Holidays</td>\n",
       "      <td>11690</td>\n",
       "    </tr>\n",
       "    <tr>\n",
       "      <th>main_activity</th>\n",
       "      <td>18412</td>\n",
       "      <td>10</td>\n",
       "      <td>Widlife Tourism</td>\n",
       "      <td>5944</td>\n",
       "    </tr>\n",
       "    <tr>\n",
       "      <th>info_source</th>\n",
       "      <td>18412</td>\n",
       "      <td>8</td>\n",
       "      <td>Travel agent, tour operator</td>\n",
       "      <td>7970</td>\n",
       "    </tr>\n",
       "    <tr>\n",
       "      <th>tour_arrangement</th>\n",
       "      <td>18412</td>\n",
       "      <td>2</td>\n",
       "      <td>Package Tour</td>\n",
       "      <td>9251</td>\n",
       "    </tr>\n",
       "    <tr>\n",
       "      <th>package_transport_int</th>\n",
       "      <td>18412</td>\n",
       "      <td>2</td>\n",
       "      <td>No</td>\n",
       "      <td>12170</td>\n",
       "    </tr>\n",
       "    <tr>\n",
       "      <th>package_accomodation</th>\n",
       "      <td>18412</td>\n",
       "      <td>2</td>\n",
       "      <td>No</td>\n",
       "      <td>9490</td>\n",
       "    </tr>\n",
       "    <tr>\n",
       "      <th>package_food</th>\n",
       "      <td>18412</td>\n",
       "      <td>2</td>\n",
       "      <td>No</td>\n",
       "      <td>10090</td>\n",
       "    </tr>\n",
       "    <tr>\n",
       "      <th>package_transport_tz</th>\n",
       "      <td>18412</td>\n",
       "      <td>2</td>\n",
       "      <td>No</td>\n",
       "      <td>10818</td>\n",
       "    </tr>\n",
       "    <tr>\n",
       "      <th>package_sightseeing</th>\n",
       "      <td>18412</td>\n",
       "      <td>2</td>\n",
       "      <td>No</td>\n",
       "      <td>12719</td>\n",
       "    </tr>\n",
       "    <tr>\n",
       "      <th>package_guided_tour</th>\n",
       "      <td>18412</td>\n",
       "      <td>2</td>\n",
       "      <td>No</td>\n",
       "      <td>12384</td>\n",
       "    </tr>\n",
       "    <tr>\n",
       "      <th>package_insurance</th>\n",
       "      <td>18412</td>\n",
       "      <td>2</td>\n",
       "      <td>No</td>\n",
       "      <td>15730</td>\n",
       "    </tr>\n",
       "    <tr>\n",
       "      <th>first_trip_tz</th>\n",
       "      <td>18412</td>\n",
       "      <td>2</td>\n",
       "      <td>Yes</td>\n",
       "      <td>12666</td>\n",
       "    </tr>\n",
       "    <tr>\n",
       "      <th>cost_category</th>\n",
       "      <td>18412</td>\n",
       "      <td>6</td>\n",
       "      <td>Normal Cost</td>\n",
       "      <td>5444</td>\n",
       "    </tr>\n",
       "  </tbody>\n",
       "</table>\n",
       "</div>"
      ],
      "text/plain": [
       "                       count unique                          top   freq\n",
       "country                18412    131     UNITED STATES OF AMERICA   2825\n",
       "age_group              18412      5                        25-44   9002\n",
       "travel_with            17339      5                        Alone   7550\n",
       "purpose                18412      8         Leisure and Holidays  11690\n",
       "main_activity          18412     10              Widlife Tourism   5944\n",
       "info_source            18412      8  Travel agent, tour operator   7970\n",
       "tour_arrangement       18412      2                 Package Tour   9251\n",
       "package_transport_int  18412      2                           No  12170\n",
       "package_accomodation   18412      2                           No   9490\n",
       "package_food           18412      2                           No  10090\n",
       "package_transport_tz   18412      2                           No  10818\n",
       "package_sightseeing    18412      2                           No  12719\n",
       "package_guided_tour    18412      2                           No  12384\n",
       "package_insurance      18412      2                           No  15730\n",
       "first_trip_tz          18412      2                          Yes  12666\n",
       "cost_category          18412      6                  Normal Cost   5444"
      ]
     },
     "execution_count": 178,
     "metadata": {},
     "output_type": "execute_result"
    }
   ],
   "source": [
    "Train.describe(include='object').transpose()"
   ]
  },
  {
   "cell_type": "code",
   "execution_count": null,
   "metadata": {},
   "outputs": [
    {
     "data": {
      "text/plain": [
       "(6121,)"
      ]
     },
     "execution_count": 179,
     "metadata": {},
     "output_type": "execute_result"
    }
   ],
   "source": [
    "Test.drop(Test[Test['country'] =='IRAQ'].index,inplace = True)\n",
    "Test.drop(Test[Test['country'] =='CHAD'].index,inplace = True)\n",
    "Test.drop(Test[Test['country'] =='HAITI'].index,inplace = True)\n",
    "Test.drop(Test[Test['country'] =='GUINEA'].index,inplace = True)\n",
    "Test.drop(Test[Test['country'] =='BOLIVIA'].index,inplace = True)\n",
    "Test.drop(Test[Test['country'] =='MYANMAR'].index,inplace = True)\n",
    "Test.drop(Test[Test['country'] =='KAZAKHSTAN'].index,inplace = True)\n",
    "Test.drop(Test[Test['country'] =='BENIN'].index,inplace = True)\n",
    "Test.drop(Test[Test['country'] =='EL SALVADOR'].index,inplace = True)\n",
    "Test.drop(Test[Test['country'] =='BELARUS'].index,inplace = True)\n",
    "Test.country.shape"
   ]
  },
  {
   "cell_type": "code",
   "execution_count": null,
   "metadata": {},
   "outputs": [],
   "source": [
    "X = Train.drop('cost_category', axis=1)  #independent columns without the index column\n",
    "y = Train.cost_category\n"
   ]
  },
  {
   "cell_type": "code",
   "execution_count": null,
   "metadata": {},
   "outputs": [],
   "source": [
    "from sklearn.impute import SimpleImputer\n",
    "for col in X.select_dtypes('object'):\n",
    "    cat_imputer = SimpleImputer(strategy='most_frequent')\n",
    "    cat_imputer.fit(X[[col]])\n",
    "    X.loc[:, col] = cat_imputer.transform(X[[col]])\n",
    "    Test.loc[:, col] = cat_imputer.transform(Test[[col]])"
   ]
  },
  {
   "cell_type": "code",
   "execution_count": null,
   "metadata": {},
   "outputs": [],
   "source": [
    "## Splitting the data into training and test sets\n",
    "from sklearn.model_selection import train_test_split\n",
    "from sklearn.preprocessing import StandardScaler\n",
    "\n",
    "# X = StandardScaler().fit_transform(X)\n",
    "\n",
    "X_train, X_cv, y_train, y_cv = train_test_split(X, y ,test_size = 0.3)\n"
   ]
  },
  {
   "cell_type": "code",
   "execution_count": null,
   "metadata": {},
   "outputs": [
    {
     "name": "stdout",
     "output_type": "stream",
     "text": [
      "model: RandomForestClassifier()\n",
      "Accuracy_score: 0.556118754525706\n",
      "model: KNeighborsClassifier()\n",
      "Accuracy_score: 0.4885952208544533\n",
      "model: SVC()\n",
      "Accuracy_score: 0.5499637943519189\n"
     ]
    },
    {
     "name": "stderr",
     "output_type": "stream",
     "text": [
      "c:\\ProgramData\\Anaconda3\\lib\\site-packages\\sklearn\\linear_model\\_logistic.py:763: ConvergenceWarning:\n",
      "\n",
      "lbfgs failed to converge (status=1):\n",
      "STOP: TOTAL NO. of ITERATIONS REACHED LIMIT.\n",
      "\n",
      "Increase the number of iterations (max_iter) or scale the data as shown in:\n",
      "    https://scikit-learn.org/stable/modules/preprocessing.html\n",
      "Please also refer to the documentation for alternative solver options:\n",
      "    https://scikit-learn.org/stable/modules/linear_model.html#logistic-regression\n",
      "\n"
     ]
    },
    {
     "name": "stdout",
     "output_type": "stream",
     "text": [
      "model: LogisticRegression()\n",
      "Accuracy_score: 0.5555756698044895\n",
      "model: GaussianNB()\n",
      "Accuracy_score: 0.10300506879073136\n",
      "model: SGDClassifier()\n",
      "Accuracy_score: 0.5\n",
      "model: DecisionTreeClassifier()\n",
      "Accuracy_score: 0.46469949312092684\n",
      "model: MLPClassifier()\n",
      "Accuracy_score: 0.5048877624909486\n"
     ]
    },
    {
     "name": "stderr",
     "output_type": "stream",
     "text": [
      "c:\\ProgramData\\Anaconda3\\lib\\site-packages\\sklearn\\neural_network\\_multilayer_perceptron.py:614: ConvergenceWarning:\n",
      "\n",
      "Stochastic Optimizer: Maximum iterations (200) reached and the optimization hasn't converged yet.\n",
      "\n"
     ]
    }
   ],
   "source": [
    "\n",
    "from sklearn.metrics import accuracy_score\n",
    "from sklearn.model_selection import  GridSearchCV\n",
    "from sklearn.metrics import mean_squared_error\n",
    "import xgboost as xgb\n",
    "\n",
    "\n",
    "\n",
    "\n",
    "'''\n",
    "    Select the best model for the given dataset\n",
    "    :param X: features\n",
    "    :param Y: labels\n",
    "    :return: the name and the accuracy of the model for the given dataset\n",
    "    '''\n",
    "    #,xgb.XGBClassifier()\n",
    "models = xgb.XGBClassifier(\n",
    "    tree_method=\"gpu_hist\", enable_categorical=True, use_label_encoder=False\n",
    ")\n",
    "\n",
    "\n",
    "\n",
    "models.fit(X_train, y_train)\n",
    "ypred = models.predict(X_cv)\n",
    "\n",
    "\n",
    "(f'Accuracy_score: {mean_squared_error(y_cv,ypred)}')"
   ]
  },
  {
   "cell_type": "code",
   "execution_count": null,
   "metadata": {},
   "outputs": [],
   "source": [
    "# from sklearn.ensemble import RandomForestClassifier\n",
    "# from sklearn.preprocessing import StandardScaler\n",
    "# from sklearn.metrics import accuracy_score\n",
    "\n",
    "# X = StandardScaler().fit_transform(X)\n",
    "\n",
    "# rf = RandomForestClassifier()\n",
    "# rf.fit(X_train, y_train)\n",
    "# y_pred = rf.predict(X_cv)\n",
    "# print(f'Accuracy_score: {accuracy_score(y_cv,y_pred)}')"
   ]
  },
  {
   "cell_type": "code",
   "execution_count": null,
   "metadata": {},
   "outputs": [],
   "source": [
    "n_estimators = [int(x) for x in np.linspace(start = 10, stop = 100, num = 10)] # Number of estimators\n",
    "max_features = ['auto' , 'sqrt'] # Number of feature to consider at every split\n",
    "max_depth = [2 , 4] # Maximum number of level in tree\n",
    "min_sample_split = [2 , 5] # Minimum number of samples required to split a node\n",
    "min_sample_leaf = [1 , 2] # Minimum number of sample required at each leaf node\n",
    "bootstrap = [True , False] # Method of selecting sample for training each tree"
   ]
  },
  {
   "cell_type": "code",
   "execution_count": null,
   "metadata": {},
   "outputs": [],
   "source": [
    "Param_grid = {\n",
    "    'n_estimators': n_estimators,\n",
    "    'max_features': max_features,\n",
    "    'max_depth': max_depth,\n",
    "    'min_samples_split': min_sample_split,\n",
    "    'min_samples_leaf': min_sample_leaf,\n",
    "    'bootstrap': bootstrap\n",
    "}"
   ]
  },
  {
   "cell_type": "code",
   "execution_count": null,
   "metadata": {},
   "outputs": [],
   "source": [
    "Grid_rf = RandomForestClassifier()"
   ]
  },
  {
   "cell_type": "code",
   "execution_count": null,
   "metadata": {},
   "outputs": [],
   "source": [
    "from sklearn.model_selection import GridSearchCV\n",
    "\n",
    "Grid = GridSearchCV(\n",
    "    estimator= Grid_rf,\n",
    "    param_grid =Param_grid,\n",
    "    cv = 3,\n",
    "    verbose= 2,\n",
    "    n_jobs = 4\n",
    ")"
   ]
  },
  {
   "cell_type": "code",
   "execution_count": null,
   "metadata": {},
   "outputs": [
    {
     "name": "stdout",
     "output_type": "stream",
     "text": [
      "Fitting 3 folds for each of 320 candidates, totalling 960 fits\n"
     ]
    },
    {
     "data": {
      "text/plain": [
       "GridSearchCV(cv=3, estimator=RandomForestClassifier(), n_jobs=4,\n",
       "             param_grid={'bootstrap': [True, False], 'max_depth': [2, 4],\n",
       "                         'max_features': ['auto', 'sqrt'],\n",
       "                         'min_samples_leaf': [1, 2],\n",
       "                         'min_samples_split': [2, 5],\n",
       "                         'n_estimators': [10, 20, 30, 40, 50, 60, 70, 80, 90,\n",
       "                                          100]},\n",
       "             verbose=2)"
      ]
     },
     "execution_count": 191,
     "metadata": {},
     "output_type": "execute_result"
    }
   ],
   "source": [
    "Grid.fit(X_train, y_train)"
   ]
  },
  {
   "cell_type": "code",
   "execution_count": null,
   "metadata": {},
   "outputs": [
    {
     "data": {
      "text/plain": [
       "{'bootstrap': True,\n",
       " 'max_depth': 4,\n",
       " 'max_features': 'sqrt',\n",
       " 'min_samples_leaf': 1,\n",
       " 'min_samples_split': 5,\n",
       " 'n_estimators': 20}"
      ]
     },
     "execution_count": 192,
     "metadata": {},
     "output_type": "execute_result"
    }
   ],
   "source": [
    "Grid.best_params_"
   ]
  },
  {
   "cell_type": "code",
   "execution_count": null,
   "metadata": {},
   "outputs": [
    {
     "name": "stdout",
     "output_type": "stream",
     "text": [
      "Train Accuracy -: 0.488\n",
      "CV Accuracy -: 0.485\n"
     ]
    }
   ],
   "source": [
    "print(f'Train Accuracy -: {Grid.score(X_train, y_train):.3f}')\n",
    "print(f'CV Accuracy -: {Grid.score(X_cv, y_cv):.3f}')"
   ]
  }
 ],
 "metadata": {
  "kernelspec": {
   "display_name": "Python 3 (ipykernel)",
   "language": "python",
   "name": "python3"
  },
  "language_info": {
   "codemirror_mode": {
    "name": "ipython",
    "version": 3
   },
   "file_extension": ".py",
   "mimetype": "text/x-python",
   "name": "python",
   "nbconvert_exporter": "python",
   "pygments_lexer": "ipython3",
   "version": "3.9.7"
  },
  "vscode": {
   "interpreter": {
    "hash": "ad2bdc8ecc057115af97d19610ffacc2b4e99fae6737bb82f5d7fb13d2f2c186"
   }
  }
 },
 "nbformat": 4,
 "nbformat_minor": 2
}
